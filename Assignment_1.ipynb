{
  "nbformat": 4,
  "nbformat_minor": 0,
  "metadata": {
    "colab": {
      "name": " Assignment-1.ipynb",
      "provenance": [],
      "include_colab_link": true
    },
    "kernelspec": {
      "name": "python3",
      "display_name": "Python 3"
    },
    "language_info": {
      "name": "python"
    }
  },
  "cells": [
    {
      "cell_type": "markdown",
      "metadata": {
        "id": "view-in-github",
        "colab_type": "text"
      },
      "source": [
        "<a href=\"https://colab.research.google.com/github/Vasishta218/python-new/blob/module-1/Assignment_1.ipynb\" target=\"_parent\"><img src=\"https://colab.research.google.com/assets/colab-badge.svg\" alt=\"Open In Colab\"/></a>"
      ]
    },
    {
      "cell_type": "code",
      "execution_count": null,
      "metadata": {
        "colab": {
          "base_uri": "https://localhost:8080/"
        },
        "id": "INRZnGaQFwkU",
        "outputId": "8666ec5d-cf0c-4b16-9ca7-0623fbbd0b25"
      },
      "outputs": [
        {
          "output_type": "stream",
          "name": "stdout",
          "text": [
            "3\n",
            "3\n"
          ]
        }
      ],
      "source": [
        "#Accept input from user and store it in variable and print the value.\n",
        "num=int(input())\n",
        "a=num\n",
        "print(a)"
      ]
    },
    {
      "cell_type": "code",
      "source": [
        "# Use of print statements and use of (.format )for printing different data types\n",
        "maths=91\n",
        "science=80\n",
        "hindi=72\n",
        "english=80\n",
        "social=86\n",
        "txt=\"\"\"I am Madhav, I scored {0}marks in maths,\n",
        "{1}marks in science, {2}marks in hindi,\n",
        "{3}marks in english, {4}marks in social.\"\"\"\n",
        "print(txt.format(maths,science,hindi,english,social))\n",
        "#\n",
        "maths=91\n",
        "science=80\n",
        "hindi=72\n",
        "english=80\n",
        "social=86\n",
        "txt=\"\"\"I am Madhav, I scored {}marks in maths,\n",
        "{}marks in science, {}marks in hindi,\n",
        "{}marks in english, {}marks in social.\"\"\"\n",
        "print(txt.format(maths,science,hindi,english,social))\n",
        "#\n",
        "txt=\"\"\"I am Madhav, I scored {}marks in maths,\n",
        "{}marks in science, {}marks in hindi,\n",
        "{}marks in english, {}marks in social.\"\"\".format(91,80,72,80,86)\n",
        "print(txt)"
      ],
      "metadata": {
        "colab": {
          "base_uri": "https://localhost:8080/"
        },
        "id": "cyTNOlGgF8ru",
        "outputId": "bc9112dc-0406-4178-b9c5-d27b4e3aa567"
      },
      "execution_count": null,
      "outputs": [
        {
          "output_type": "stream",
          "name": "stdout",
          "text": [
            "I am Madhav, I scored 91marks in maths,\n",
            "80marks in science, 72marks in hindi,\n",
            "80marks in english, 86marks in social.\n",
            "I am Madhav, I scored 91marks in maths,\n",
            "80marks in science, 72marks in hindi,\n",
            "80marks in english, 86marks in social.\n",
            "I am Madhav, I scored 91marks in maths,\n",
            "80marks in science, 72marks in hindi,\n",
            "80marks in english, 86marks in social.\n"
          ]
        }
      ]
    },
    {
      "cell_type": "code",
      "source": [
        "#Take 2 numbers as user input and add,multiply,divide,subtract,remainder and print the output (Same operations on floating point input as well)\n",
        "a=int(input())\n",
        "b=int(input())\n",
        "c=a+b\n",
        "print(c)\n",
        "d=a*b\n",
        "print(d)\n",
        "e=a/b\n",
        "print(e)\n",
        "f=a-b\n",
        "print(f)\n",
        "g=a%b\n",
        "print(g)\n",
        "#\n",
        "a=float(input())\n",
        "b=float(input())\n",
        "c=a+b\n",
        "print(c)\n",
        "d=a*b\n",
        "print(d)\n",
        "e=a/b\n",
        "print(e)\n",
        "f=a-b\n",
        "print(f)\n",
        "g=a%b\n",
        "print(g)"
      ],
      "metadata": {
        "colab": {
          "base_uri": "https://localhost:8080/"
        },
        "id": "LS2oFXwJKIy5",
        "outputId": "7d20ff7b-dfb5-400c-b6ed-358a5f474b95"
      },
      "execution_count": null,
      "outputs": [
        {
          "output_type": "stream",
          "name": "stdout",
          "text": [
            "45\n",
            "42\n",
            "87\n",
            "1890\n",
            "1.0714285714285714\n",
            "3\n",
            "3\n",
            "45\n",
            "42\n",
            "87.0\n",
            "1890.0\n",
            "1.0714285714285714\n",
            "3.0\n",
            "3.0\n"
          ]
        }
      ]
    },
    {
      "cell_type": "code",
      "source": [
        "#Conversion of one unit to another (such as hours to minutes, miles to km and etc)\n",
        "num=float(input())\n",
        "hours=num\n",
        "minutes=hours*60\n",
        "print(minutes,\"minutes\")\n",
        "num=float(input())\n",
        "miles=num\n",
        "km=miles*1.60934\n",
        "print(km,\"kilometers\")\n",
        "num=float(input())\n",
        "Km=num\n",
        "M=Km*1000\n",
        "print(M,\"meters\")\n",
        "num=float(input())\n",
        "Kg=num\n",
        "G=Kg*1000\n",
        "print(G,\"grams\")\n",
        "num=float(input())\n",
        "L=num\n",
        "ml=L*1000\n",
        "print(ml,\"milli liters\")"
      ],
      "metadata": {
        "colab": {
          "base_uri": "https://localhost:8080/"
        },
        "id": "6FN0I5bEMn3U",
        "outputId": "5c6ff819-eb8b-477e-af1c-20c2dd17b35a"
      },
      "execution_count": null,
      "outputs": [
        {
          "output_type": "stream",
          "name": "stdout",
          "text": [
            "10\n",
            "600.0 minutes\n",
            "1\n",
            "1.60934 kilometers\n",
            "1\n",
            "1000.0 meters\n",
            "1\n",
            "1000.0 grams\n",
            "1\n",
            "1000.0 milli liters\n"
          ]
        }
      ]
    },
    {
      "cell_type": "code",
      "source": [
        "#Usage of mathematical functions in python like math.ceil,floor,fabs,fmod,trunc,pow, sqrt etc.\n",
        "import math\n",
        "a=math.ceil(2.5)\n",
        "b=math.floor(2.5)\n",
        "c=math.fabs(-2.5)\n",
        "d=math.fmod(45,42)\n",
        "e=math.trunc(2.5)\n",
        "f=pow(2,3)\n",
        "g=math.sqrt(16)\n",
        "print(a) \n",
        "print(b) \n",
        "print(c) \n",
        "print(d) \n",
        "print(e) \n",
        "print(f) \n",
        "print(g) "
      ],
      "metadata": {
        "colab": {
          "base_uri": "https://localhost:8080/"
        },
        "id": "ddfIFuIqSe0a",
        "outputId": "b05d2291-4105-49bd-8499-64ee6d6b78df"
      },
      "execution_count": null,
      "outputs": [
        {
          "output_type": "stream",
          "name": "stdout",
          "text": [
            "3\n",
            "2\n",
            "2.5\n",
            "3.0\n",
            "2\n",
            "8\n",
            "4.0\n"
          ]
        }
      ]
    },
    {
      "cell_type": "code",
      "source": [
        "#Building a mathematical calculator that can perform operations according to user input.Use decision making statement.\n",
        "a=float(input())\n",
        "b=float(input())\n",
        "c=[\"+\",\"-\",\"*\",\"/\"]\n",
        "d=str(input(c))\n",
        "if \"+\" in d:\n",
        "  print(a+b)\n",
        "elif \"-\" in d:\n",
        "  print(a-b)\n",
        "elif \"*\" in d:\n",
        "  print(a*b)\n",
        "elif \"/\" in d:\n",
        "  print(a/b)  "
      ],
      "metadata": {
        "colab": {
          "base_uri": "https://localhost:8080/"
        },
        "id": "VwwXxTRpWtcw",
        "outputId": "fcb0e734-ff6b-43c0-ff1f-4e8a0a4c83d3"
      },
      "execution_count": null,
      "outputs": [
        {
          "output_type": "stream",
          "name": "stdout",
          "text": [
            "45\n",
            "42\n",
            "+,-,*,//\n",
            "1.0714285714285714\n"
          ]
        }
      ]
    },
    {
      "cell_type": "code",
      "source": [
        "#Accepting 5 different subject marks from user and displaying the grade of the student\n",
        "m=int(input(\"enter maths marks : \"))\n",
        "p=int(input(\"enter phy marks : \"))\n",
        "c=int(input(\"enter chem marks : \"))\n",
        "s=int(input(\"enter cse marks : \"))\n",
        "b=int(input(\"enter beee marks : \"))\n",
        "total=m+p+c+s+b\n",
        "print(total)\n",
        "avg=total/5\n",
        "print(avg)\n",
        "if avg>=91 and avg<=100:\n",
        "    print(\"A+\")\n",
        "elif avg>=81 and avg<91:\n",
        "    print(\"A\")\n",
        "elif avg>=71 and avg<81:\n",
        "    print(\"B\")\n",
        "elif avg>=61 and avg<71:\n",
        "    print(\"C\")\n",
        "elif avg>=51 and avg<61:\n",
        "    print(\"D\")\n",
        "elif avg>=41 and avg<51:\n",
        "    print(\"E\")\n",
        "elif avg>=33 and avg<41:\n",
        "    print(\"F\")"
      ],
      "metadata": {
        "colab": {
          "base_uri": "https://localhost:8080/"
        },
        "id": "G9Becg_EcnRV",
        "outputId": "d12592c7-9db7-4d24-ce3d-45f676f250a1"
      },
      "execution_count": null,
      "outputs": [
        {
          "output_type": "stream",
          "name": "stdout",
          "text": [
            "enter maths marks : 95\n",
            "enter phy marks : 92\n",
            "enter chem marks : 91\n",
            "enter cse marks : 94\n",
            "enter beee marks : 93\n",
            "465\n",
            "93.0\n",
            "A+\n"
          ]
        }
      ]
    },
    {
      "cell_type": "code",
      "source": [
        "#Printing all even numbers, odd numbers, count of even numbers, count of odd numbers within a given range.\n",
        "num1=int(input())\n",
        "num2=int(input())\n",
        "print((\"____\"))\n",
        "print(\"Even numbers in given Range\")\n",
        "for x in range(num1,num2+1):\n",
        "  if x%2==0:\n",
        "    print(x)\n",
        "count=0    \n",
        "for x in range(num1,num2):\n",
        "  if x%2:\n",
        "    count+=1\n",
        "print(\"Number of even numbers are \",count)\n",
        "print(\"-----\")    \n",
        "num3=int(input())\n",
        "num4=int(input())\n",
        "print(\"Odd numbers in given Range\")\n",
        "print((\"____\"))\n",
        "for x in range(num3,num4+1):\n",
        "  if x%2==1:\n",
        "    print(x)\n",
        "count=0    \n",
        "for x in range(num1,num2):\n",
        "  if not x%2:\n",
        "    count+=1\n",
        "print(\"number of odd numbers are\",count)\n"
      ],
      "metadata": {
        "colab": {
          "base_uri": "https://localhost:8080/"
        },
        "id": "2cMp-fNLhRDT",
        "outputId": "315730c9-ee86-4f0f-84c3-b9f66d29e662"
      },
      "execution_count": null,
      "outputs": [
        {
          "output_type": "stream",
          "name": "stdout",
          "text": [
            "0\n",
            "9\n",
            "____\n",
            "Even numbers in given Range\n",
            "0\n",
            "2\n",
            "4\n",
            "6\n",
            "8\n",
            "Number of even numbers are  4\n",
            "-----\n",
            "0\n",
            "9\n",
            "Odd numbers in given Range\n",
            "____\n",
            "1\n",
            "3\n",
            "5\n",
            "7\n",
            "9\n",
            "number of odd numbers are 5\n"
          ]
        }
      ]
    },
    {
      "cell_type": "code",
      "source": [
        "#a) Compute the factorial of a given number. \n",
        "num=int(input())\n",
        "f=1\n",
        "for x in range(1,num+1):\n",
        "  f=f*x  \n",
        "print(\"Factorial of\" ,num ,\"is\", f)\n",
        "#b) Compute GCD of two given numbers.\n",
        "num1=int(input())\n",
        "num2=int(input())\n",
        "def hcf(num1,num2):\n",
        "    if num1>num2:\n",
        "      smaller = num2\n",
        "    else:\n",
        "      smaller = num1\n",
        "    for x in range(1, smaller+1):\n",
        "        if((num1 % x == 0) and (num2 % x == 0)):\n",
        "            hcf = x \n",
        "    return hcf\n",
        "print(\"Gcd is\", hcf(num1,num2))\n",
        "# c) Generate Fibonacci series up to N numbers.\n",
        "num=int(input())\n",
        "n1=0\n",
        "n2=1\n",
        "count=0\n",
        "print(\"fibonnaci seriers are\")\n",
        "while count<num:\n",
        "  print(n1)\n",
        "  nth=n1+n2\n",
        "  n1=n2\n",
        "  n2=nth\n",
        "  count += 1"
      ],
      "metadata": {
        "colab": {
          "base_uri": "https://localhost:8080/"
        },
        "id": "deW7Z_YVhuSg",
        "outputId": "c12382a6-6c45-42aa-f942-587b9f2f0bfd"
      },
      "execution_count": null,
      "outputs": [
        {
          "output_type": "stream",
          "name": "stdout",
          "text": [
            "7\n",
            "Factorial of 7 is 5040\n",
            "4\n",
            "6\n",
            "Gcd is 2\n",
            "5\n",
            "fibonnaci seriers are\n",
            "0\n",
            "1\n",
            "1\n",
            "2\n",
            "3\n"
          ]
        }
      ]
    },
    {
      "cell_type": "code",
      "source": [
        "#Check whether the given input is \n",
        "#a) palindrome\n",
        "n=int(input())\n",
        "n1=n\n",
        "sum=0\n",
        "while(n1!=0):  \n",
        "   r=n1%10\n",
        "   sum=sum*10+r\n",
        "   n1=n1//10\n",
        "if(sum==n):\n",
        "  print(\"palindrome\")\n",
        "else:\n",
        "  print(\"Not palindrome\")  \n",
        "\n",
        "#b) strong \n",
        "n=int(input())\n",
        "sum=0\n",
        "n=n1\n",
        "while(n1):\n",
        "  i=1\n",
        "  f=1\n",
        "  r=n1%10\n",
        "  while(i<=r):\n",
        "    f=f*i\n",
        "    i=i+1\n",
        "    sum=sum+f\n",
        "    n1=n1//10\n",
        "if(sum==n):\n",
        "  print(\"Strong number\")\n",
        "else:\n",
        "  print(\"Not a Strong Number\")  \n",
        "\n",
        "#c) perfect  \n",
        "n=int(input())\n",
        "sum=0\n",
        "for i in range(1, n):\n",
        "    if(n%i==0):\n",
        "        sum=sum+i\n",
        "if (sum==n):\n",
        "    print(\"Perfect number\")\n",
        "else:\n",
        "    print(\"Not a Perfect number\")"
      ],
      "metadata": {
        "colab": {
          "base_uri": "https://localhost:8080/"
        },
        "id": "iwZ7QOprh4Sp",
        "outputId": "eee74f17-60d7-42f7-eb5d-376adf9a752d"
      },
      "execution_count": null,
      "outputs": [
        {
          "output_type": "stream",
          "name": "stdout",
          "text": [
            "545\n",
            "palindrome\n",
            "145\n",
            "Strong number\n",
            "28\n",
            "Perfect number\n"
          ]
        }
      ]
    },
    {
      "cell_type": "code",
      "source": [
        "#Compute compound interest using loop for a certain principal and interest amount\n",
        "p=int(input())\n",
        "r=float(input())\n",
        "t=int(input())\n",
        "for i in range(t):\n",
        "    A = p*(pow((1+r/100),t))\n",
        "print(A)\n",
        "ci=A-p\n",
        "print(ci)"
      ],
      "metadata": {
        "colab": {
          "base_uri": "https://localhost:8080/"
        },
        "id": "xYC-Y3Swh9gh",
        "outputId": "878cc698-e02d-43e2-87b5-cfd395832ea9"
      },
      "execution_count": null,
      "outputs": [
        {
          "output_type": "stream",
          "name": "stdout",
          "text": [
            "1200\n",
            "5.4\n",
            "2\n",
            "1333.0992\n",
            "133.0992000000001\n"
          ]
        }
      ]
    }
  ]
}